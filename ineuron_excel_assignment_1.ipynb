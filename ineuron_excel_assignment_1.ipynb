{
  "nbformat": 4,
  "nbformat_minor": 0,
  "metadata": {
    "colab": {
      "provenance": []
    },
    "kernelspec": {
      "name": "python3",
      "display_name": "Python 3"
    },
    "language_info": {
      "name": "python"
    }
  },
  "cells": [
    {
      "cell_type": "code",
      "execution_count": null,
      "metadata": {
        "id": "Gik13rWO8CAZ"
      },
      "outputs": [],
      "source": [
        "1. What do you mean by cells in an excel sheet?"
      ]
    },
    {
      "cell_type": "markdown",
      "source": [
        "cell is a basic building bloc of a worksheet or intersection of row and column"
      ],
      "metadata": {
        "id": "mmdDklzR8bJj"
      }
    },
    {
      "cell_type": "code",
      "source": [
        "2. How can you restrict someone from copying a cell from your worksheet?"
      ],
      "metadata": {
        "id": "5Q456Ulr8Zrj"
      },
      "execution_count": null,
      "outputs": []
    },
    {
      "cell_type": "markdown",
      "source": [
        "right click on sheets select protect sheet, put password"
      ],
      "metadata": {
        "id": "JQyMiR2MNQN7"
      }
    },
    {
      "cell_type": "code",
      "source": [
        "3. How to move or copy the worksheet into another workbook?"
      ],
      "metadata": {
        "id": "CyiqLl6fNXc3"
      },
      "execution_count": null,
      "outputs": []
    },
    {
      "cell_type": "markdown",
      "source": [
        "Open the workbook that contains the worksheet.\n",
        "Right-click on the worksheet tab and select Move or Copy.\n",
        "In the Move or Copy dialog box, select workbook to which you want to move/copy the worksheet from the To book drop-down list.\n",
        "To move the worksheet, select the destination Excel workbook and choose the worksheet tab before which you want to move the copied worksheet into.\n",
        "To copy the worksheet, select the Create a Copy check box to create a duplicate of the worksheet in the destination workbook.\n",
        "click OK to complete the move/copy operation."
      ],
      "metadata": {
        "id": "LVPvbDAVP9Mn"
      }
    },
    {
      "cell_type": "markdown",
      "source": [],
      "metadata": {
        "id": "6QOYNBRGNbob"
      }
    },
    {
      "cell_type": "code",
      "source": [
        "4. Which key is used as a shortcut for opening a new window document?"
      ],
      "metadata": {
        "id": "JMQYDk8CQ7PF"
      },
      "execution_count": null,
      "outputs": []
    },
    {
      "cell_type": "markdown",
      "source": [
        "CTRL+N"
      ],
      "metadata": {
        "id": "uMvg0wmQQ8Dv"
      }
    },
    {
      "cell_type": "code",
      "source": [
        "5. What are the things that we can notice after opening the Excel interface?"
      ],
      "metadata": {
        "id": "ux9aQt1zQ9oF"
      },
      "execution_count": null,
      "outputs": []
    },
    {
      "cell_type": "markdown",
      "source": [
        "Ribbon: Ribbon is located at the top of the window and contains all the commands and tools you need to work with Excel.\n",
        "\n",
        "Quick Access Toolbar: Quick Access Toolbar above the Ribbon contains shortcuts for frequently used commands.\n",
        "\n",
        "Workbook Views: Workbook Views buttons allow you to switch between different views of workbook.\n",
        "\n",
        "Worksheets: worksheet tabs in the bottom-left corner of the window and allow you to switch between individual worksheets in a workbook.\n",
        "\n",
        "Formula Bar: Formula Bar above the worksheet and displays the contents of the currently selected cell.\n",
        "\n",
        "Status Bar: The Status Bar at the bottom of the window which displays information about the current worksheet."
      ],
      "metadata": {
        "id": "FnOQSZfzRmwQ"
      }
    },
    {
      "cell_type": "code",
      "source": [
        "When to use a relative cell reference in excel?"
      ],
      "metadata": {
        "id": "HIADd9rYSQ80"
      },
      "execution_count": null,
      "outputs": []
    },
    {
      "cell_type": "markdown",
      "source": [
        "relative cell reference is used when we want to refer to a cell in a formula and have that reference change depending on where the formula is being copied or moved."
      ],
      "metadata": {
        "id": "fT1CBCo1UIVX"
      }
    },
    {
      "cell_type": "markdown",
      "source": [],
      "metadata": {
        "id": "Ulw30NRQUB4m"
      }
    }
  ]
}